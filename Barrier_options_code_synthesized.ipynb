{
 "cells": [
  {
   "cell_type": "code",
   "execution_count": 8,
   "metadata": {},
   "outputs": [],
   "source": [
    "import numpy as np\n",
    "import scipy.stats as si\n",
    "from scipy.sparse import diags\n",
    "from scipy.linalg import solve_triangular\n",
    "import matplotlib.pyplot as plt\n",
    "plt.style.use(\"classic\")"
   ]
  },
  {
   "cell_type": "markdown",
   "metadata": {},
   "source": [
    "# DIP/DOP/PUT Price using the Finite difference methods"
   ]
  },
  {
   "cell_type": "code",
   "execution_count": 20,
   "metadata": {},
   "outputs": [],
   "source": [
    "def grid_setup(s_min,s_max,T,N,M,sigma,local_vol):\n",
    "    # Setup of grids\n",
    "    dt = T/N\n",
    "    dx = (s_max - s_min)/M\n",
    "    s = np.linspace(s_min, s_max, M+1)\n",
    "    t = np.linspace(0, T, N+1)\n",
    "    t_2 = np.linspace(0, T, M+1)\n",
    "    #local_vol\n",
    "    if local_vol == True:\n",
    "        sigma = (1+t_2/30)*(0.1+0.4*np.exp(-s/50)) #some toy local vol we use to mimick the equity skew\n",
    "        #should be parametrized in theory according to the market (see Dupire's approach)\n",
    "    else:\n",
    "        sigma = sigma\n",
    "        \n",
    "    # Set up the vectors A, B and C\n",
    "    A = 0.5 * sigma**2 * dt / dx**2 * s**2 - 0.5 * r * dt/ dx * s\n",
    "    B = - sigma**2 * dt / dx**2 * s**2 - r * dt\n",
    "    C = 0.5 * sigma**2 * dt / dx**2 * s**2 + 0.5 * r * dt/ dx * s\n",
    "    # Setup the matrix L and I\n",
    "    a_diag = np.concatenate([A[1:-1],[0]])\n",
    "    b_diag = np.concatenate([[0],B[1:-1],[0]])\n",
    "    c_diag = np.concatenate([[0],C[1:-1]])\n",
    "    L = diags([a_diag, b_diag, c_diag], [-1, 0, 1]).toarray()\n",
    "    I = np.identity(M+1)\n",
    "    return I,L,s, a_diag, b_diag, c_diag, t "
   ]
  },
  {
   "cell_type": "code",
   "execution_count": 15,
   "metadata": {},
   "outputs": [],
   "source": [
    "# Tridiagional matrix solver. a, b, c are the low, mid and high diagional of the matrix\n",
    "# d is the constant vector on the RHS\n",
    "#(copied shamelessly from https://gist.github.com/cbellei/8ab3ab8551b8dfc8b081c518ccd9ada9)\n",
    "def TDMAsolver(a, b, c, d):\n",
    "\n",
    "    nf = len(d) # number of equations\n",
    "    ac, bc, cc, dc = map(np.array, (a, b, c, d)) # copy arrays\n",
    "    for it in range(1, nf):\n",
    "        mc = ac[it-1]/bc[it-1]\n",
    "        bc[it] = bc[it] - mc*cc[it-1] \n",
    "        dc[it] = dc[it] - mc*dc[it-1]\n",
    "        \t    \n",
    "    xc = bc\n",
    "    xc[-1] = dc[-1]/bc[-1]\n",
    "\n",
    "    for il in range(nf-2, -1, -1):\n",
    "        xc[il] = (dc[il]-cc[il]*xc[il+1])/bc[il]\n",
    "\n",
    "    return xc"
   ]
  },
  {
   "cell_type": "code",
   "execution_count": 16,
   "metadata": {},
   "outputs": [],
   "source": [
    "def VanillaEU_Put_Finite_Diff(S0,K,r,sigma,T,local_vol=False,explicit=True):\n",
    "    # Grid parameters\n",
    "    s_min, s_max = 10, 150\n",
    "    N, M = (s_max-s_min)*10, s_max-s_min\n",
    "    # Setup of grids\n",
    "    I,L, s, a_diag, b_diag, c_diag, t = grid_setup(s_min,s_max,T,N,M,sigma,local_vol)\n",
    "    # Running the explicit scheme\n",
    "\n",
    "    # Initial condition\n",
    "    v_ex = np.maximum(K - s, 0) # call option payoff\n",
    "\n",
    "    # Iteration of explicit scheme\n",
    "    for n in range(1,N+1):\n",
    "        v_ex = np.matmul(I+L, v_ex)           # V^{n+1} = (I+L)V^n\n",
    "        v_ex[0] = K*np.exp(-r*t[n])           # Boundary operation at s_min\n",
    "        v_ex[M] = 0                           # Boundary operation at s_max\n",
    "\n",
    "    # Running the implicit scheme\n",
    "\n",
    "    # Initial condition\n",
    "    v_im = np.maximum(K - s, 0)\n",
    "\n",
    "    # Iteration of implicit scheme\n",
    "    for n in range(1,N+1):\n",
    "\n",
    "        d = v_im   # The RHS of the system of equations is V^{n-1}\n",
    "        d[0] = K*np.exp(-r*t[n])   # Boundary operator at s_min\n",
    "        d[M] = 0                   # Boundary operator at s_min\n",
    "        v_im = TDMAsolver(-a_diag, 1-b_diag, -c_diag, d)   # Run the Thomas algorithm to solve for V^n\n",
    "        \n",
    "    return v_ex[S0-10] if explicit==True else v_im[S0-10]"
   ]
  },
  {
   "cell_type": "code",
   "execution_count": 17,
   "metadata": {},
   "outputs": [],
   "source": [
    "def EU_Put_Down_Out_Finite_Diff(S0,Bko,K,r,sigma,T,local_vol=False,explicit=True):\n",
    "    # Grid parameters\n",
    "    s_min, s_max = Bko, 150\n",
    "    N, M = abs(s_max-s_min)*10, abs(s_max-s_min)  # N = 1000, M = 100\n",
    "\n",
    "    I,L, s, a_diag, b_diag, c_diag, t = grid_setup(s_min,s_max,T,N,M,sigma,local_vol)\n",
    "    # Initial condition\n",
    "    v_ex = (K-s)*np.int64(K >= s)*np.int64(s >= Bko) # DOP option payoff\n",
    "\n",
    "    # Iteration of explicit scheme\n",
    "    for n in range(1,N+1):\n",
    "        v_ex = np.matmul(I+L, v_ex)           # V^{n+1} = (I+L)V^n\n",
    "        v_ex[0] = 0                           # Boundary operation at s_min\n",
    "        v_ex[M] = 0                           # Boundary operation at s_max  \n",
    "\n",
    "    # Running the implicit scheme\n",
    "\n",
    "    # Initial condition\n",
    "    v_im = (K-s)*np.int64(K > s)*np.int64(s > Bko)\n",
    "\n",
    "    # Iteration of implicit scheme\n",
    "    for n in range(1,N+1):\n",
    "\n",
    "        d = v_im   # The RHS of the system of equations is V^{n-1}\n",
    "        d[0] = 0   # Boundary operator at s_min\n",
    "        d[M] = 0  # Boundary operator at s_min\n",
    "        v_im = TDMAsolver(-a_diag, 1-b_diag, -c_diag, d)   # Run the Thomas algorithm to solve for V^n\n",
    "    \n",
    "    return v_ex[S0-Bko] if explicit==True else v_im[S0-Bko]\n"
   ]
  },
  {
   "cell_type": "code",
   "execution_count": 39,
   "metadata": {},
   "outputs": [],
   "source": [
    "def EU_Put_Down_In_Finite_Diff_implicit(S0,Bko,K,r,sigma,T,local_vol=False):\n",
    "    if local_vol==True:\n",
    "        return VanillaEU_Put_Finite_Diff(S0,K,r,sigma,T,local_vol=True, \n",
    "                explicit=False) - EU_Put_Down_Out_Finite_Diff(S0,Bko,K,r,sigma,T,local_vol=True,explicit=False)\n",
    "    else:\n",
    "        return VanillaEU_Put_Finite_Diff(S0,K,r,sigma,T,local_vol=False, \n",
    "                explicit=False) - EU_Put_Down_Out_Finite_Diff(S0,Bko,K,r,sigma,T,local_vol=False,explicit=False)"
   ]
  },
  {
   "cell_type": "code",
   "execution_count": 27,
   "metadata": {},
   "outputs": [
    {
     "name": "stdout",
     "output_type": "stream",
     "text": [
      "DIP_prices_constant_volatility= [0.04989699249811963, 0.7130397820488081, 3.106386822981131, 5.429516289455524]\n",
      "DOP_prices_constant_volatility= [5.687326129303586, 5.024183339752898, 2.630836298820575, 0.30770683234618174]\n",
      "Vanilla Put Price= 5.737223121801706\n"
     ]
    }
   ],
   "source": [
    "S0,K,r,sigma,T=100,100,0.01,0.157,1\n",
    "#Under Implicit Scheme\n",
    "\n",
    "DIP_prices_constant_volatility = [EU_Put_Down_In_Finite_Diff_implicit(S0,i,K,r,sigma,T) \n",
    "                                           for i in range(60,100,10)]\n",
    "DOP_prices_constant_volatility = [EU_Put_Down_Out_Finite_Diff(S0,i,K,r,sigma,T,explicit=False) \n",
    "                                           for i in range(60,100,10)]\n",
    "                                  \n",
    "print(\"DIP_prices_constant_volatility=\",DIP_prices_constant_volatility)\n",
    "print(\"DOP_prices_constant_volatility=\",DOP_prices_constant_volatility)\n",
    "print(\"Vanilla Put Price=\",VanillaEU_Put_Finite_Diff(100,K,r,sigma,T,explicit=False))"
   ]
  },
  {
   "cell_type": "markdown",
   "metadata": {},
   "source": [
    "# UIC/UOC/Call Price using the Finite difference methods"
   ]
  },
  {
   "cell_type": "code",
   "execution_count": 54,
   "metadata": {},
   "outputs": [],
   "source": [
    "def VanillaEU_Call_Finite_Diff(S0,K,r,sigma,T,local_vol=True,explicit=True):\n",
    "    # Grid parameters\n",
    "    s_min, s_max = 1, 150\n",
    "    N, M = (s_max-s_min)*10, s_max-s_min\n",
    "    # Setup of grids\n",
    "    I,L, s, a_diag, b_diag, c_diag, t = grid_setup(s_min,s_max,T,N,M,sigma,local_vol)\n",
    "    # Running the explicit scheme\n",
    "\n",
    "    # Initial condition\n",
    "    v_ex = np.maximum(s - K, 0) # call option payoff\n",
    "\n",
    "    # Iteration of explicit scheme\n",
    "    for n in range(1,N+1):\n",
    "        v_ex = np.matmul(I+L, v_ex)           # V^{n+1} = (I+L)V^n\n",
    "        v_ex[0] = 0                           # Boundary operation at s_min\n",
    "        v_ex[M] = s_max - K*np.exp(-r*t[n])   # Boundary operation at s_max\n",
    "\n",
    "    # Running the implicit scheme\n",
    "\n",
    "    # Initial condition\n",
    "    v_im = np.maximum(s - K, 0)\n",
    "\n",
    "    # Iteration of implicit scheme\n",
    "    for n in range(1,N+1):\n",
    "\n",
    "        d = v_im   # The RHS of the system of equations is V^{n-1}\n",
    "        d[0] = 0   # Boundary operator at s_min\n",
    "        d[M] = s_max - K*np.exp(-r*t[n])  # Boundary operator at s_min\n",
    "        v_im = TDMAsolver(-a_diag, 1-b_diag, -c_diag, d)   # Run the Thomas algorithm to solve for V^n\n",
    "        \n",
    "    return v_ex[S0-1] if explicit==True else v_im[S0-1]"
   ]
  },
  {
   "cell_type": "code",
   "execution_count": 74,
   "metadata": {},
   "outputs": [],
   "source": [
    "def EU_Call_Up_Out_Finite_Diff(S0,Bko,K,r,sigma,T,local_vol=False,explicit=True):\n",
    "    # Grid parameters\n",
    "    s_min, s_max = 1, Bko\n",
    "    N, M = (Bko-s_min)*10, Bko-s_min  # N = 1000, M = 100\n",
    "\n",
    "    I,L, s, a_diag, b_diag, c_diag, t = grid_setup(s_min,s_max,T,N,M,sigma,local_vol)\n",
    "    # Initial condition\n",
    "    v_ex = (s-K)*np.int64(K < s)*np.int64(s < Bko) # UOC option payoff\n",
    "\n",
    "    # Iteration of explicit scheme\n",
    "    for n in range(1,N+1):\n",
    "        v_ex = np.matmul(I+L, v_ex)           # V^{n+1} = (I+L)V^n\n",
    "        v_ex[0] = 0                           # Boundary operation at s_min\n",
    "        v_ex[M] = 0                           # Boundary operation at s_max  \n",
    "\n",
    "    # Running the implicit scheme\n",
    "\n",
    "    # Initial condition\n",
    "    v_im = (s-K)*np.int64(K < s)*np.int64(s < Bko)\n",
    "\n",
    "    # Iteration of implicit scheme\n",
    "    for n in range(1,N+1):\n",
    "\n",
    "        d = v_im   # The RHS of the system of equations is V^{n-1}\n",
    "        d[0] = 0   # Boundary operator at s_min\n",
    "        d[M] = 0  # Boundary operator at s_min\n",
    "        v_im = TDMAsolver(-a_diag, 1-b_diag, -c_diag, d)   # Run the Thomas algorithm to solve for V^n\n",
    "    \n",
    "    return v_ex[S0-1] if explicit==True else v_im[S0-1]\n"
   ]
  },
  {
   "cell_type": "code",
   "execution_count": 57,
   "metadata": {},
   "outputs": [],
   "source": [
    "def EU_Call_Up_In_Finite_Diff_implicit(S0,Bko,K,r,sigma,T,local_vol=False):\n",
    "    if local_vol==True:\n",
    "        return VanillaEU_Call_Finite_Diff(S0,K,r,sigma,T,local_vol=True, \n",
    "                explicit=False) - EU_Call_Up_Out_Finite_Diff(S0,Bko,K,r,sigma,T,local_vol=True,explicit=False)\n",
    "    else:\n",
    "        return VanillaEU_Call_Finite_Diff(S0,K,r,sigma,T,local_vol=False, \n",
    "                explicit=False) - EU_Call_Up_Out_Finite_Diff(S0,Bko,K,r,sigma,T,local_vol=False,explicit=False)"
   ]
  },
  {
   "cell_type": "code",
   "execution_count": 58,
   "metadata": {},
   "outputs": [],
   "source": [
    "def EU_Call_Up_In_Finite_Diff_explicit(S0,Bko,K,r,sigma,T,local_vol=False):\n",
    "    if local_vol==True:\n",
    "        return VanillaEU_Call_Finite_Diff(S0,K,r,sigma,T,local_vol=True, \n",
    "                explicit=True) - EU_Call_Up_Out_Finite_Diff(S0,Bko,K,r,sigma,T,local_vol=True,explicit=True)\n",
    "    else:\n",
    "        return VanillaEU_Call_Finite_Diff(S0,K,r,sigma,T,local_vol=False, \n",
    "                explicit=True) - EU_Call_Up_Out_Finite_Diff(S0,Bko,K,r,sigma,T,local_vol=False,explicit=True)"
   ]
  },
  {
   "cell_type": "code",
   "execution_count": 61,
   "metadata": {},
   "outputs": [
    {
     "name": "stdout",
     "output_type": "stream",
     "text": [
      "[0.0, 0.224918757955326, 1.7799999316946649, 3.9497781984375435, 5.49052264848901]\n",
      "[6.733338808950464, 6.508420050995138, 4.953338877255799, 2.7835606105129203, 1.2428161604614534]\n",
      "Vanilla Call Price= 6.759786710225255\n"
     ]
    }
   ],
   "source": [
    "S0,K,r,sigma,T=100,100,0.01,0.157,1\n",
    "#Under Implicit Scheme\n",
    "UOC_prices_constant_volatility_implicit = [EU_Call_Up_Out_Finite_Diff(S0,i,K,r,sigma,T) for i in range(100,150,10)]\n",
    "UIC_prices_constant_volatility_implicit = [EU_Call_Up_In_Finite_Diff_explicit(S0,i,K,r,sigma,T) for i in range(100,150,10)]\n",
    "print(UOC_prices_constant_volatility_implicit)\n",
    "print(UIC_prices_constant_volatility_implicit)\n",
    "print(\"Vanilla Call Price=\",VanillaEU_Call_Finite_Diff(100,K,r,sigma,T,explicit=False))"
   ]
  },
  {
   "cell_type": "code",
   "execution_count": 79,
   "metadata": {},
   "outputs": [
    {
     "data": {
      "text/plain": [
       "[<matplotlib.lines.Line2D at 0x2470348ada0>]"
      ]
     },
     "execution_count": 79,
     "metadata": {},
     "output_type": "execute_result"
    },
    {
     "data": {
      "image/png": "[encoded data removed]",
      "text/plain": [
       "<Figure size 640x480 with 1 Axes>"
      ]
     },
     "metadata": {},
     "output_type": "display_data"
    }
   ],
   "source": [
    "CUO_price=[EU_Call_Up_Out_Finite_Diff(i,150,K,r,sigma,T) for i in range(1,151,1)]\n",
    "plt.plot(CUO_price)"
   ]
  },
  {
   "cell_type": "code",
   "execution_count": 80,
   "metadata": {},
   "outputs": [
    {
     "data": {
      "text/plain": [
       "[<matplotlib.lines.Line2D at 0x2470351d278>]"
      ]
     },
     "execution_count": 80,
     "metadata": {},
     "output_type": "execute_result"
    },
    {
     "data": {
      "image/png": "[encoded data removed]",
      "text/plain": [
       "<Figure size 640x480 with 1 Axes>"
      ]
     },
     "metadata": {},
     "output_type": "display_data"
    }
   ],
   "source": [
    "CUI_price=[EU_Call_Up_In_Finite_Diff_implicit(i,150,K,r,sigma,T) for i in range(1,151,1)]\n",
    "plt.plot(CUI_price)"
   ]
  },
  {
   "cell_type": "code",
   "execution_count": 96,
   "metadata": {},
   "outputs": [
    {
     "data": {
      "text/plain": [
       "[<matplotlib.lines.Line2D at 0x24704b2fef0>]"
      ]
     },
     "execution_count": 96,
     "metadata": {},
     "output_type": "execute_result"
    },
    {
     "data": {
      "image/png": "[encoded data removed]",
      "text/plain": [
       "<Figure size 640x480 with 1 Axes>"
      ]
     },
     "metadata": {},
     "output_type": "display_data"
    }
   ],
   "source": [
    "DOP_price=[EU_Put_Down_Out_Finite_Diff(i,70,K,r,sigma,T) for i in range(70,120,1)]\n",
    "plt.plot(DOP_price)"
   ]
  },
  {
   "cell_type": "code",
   "execution_count": 95,
   "metadata": {},
   "outputs": [
    {
     "data": {
      "text/plain": [
       "[<matplotlib.lines.Line2D at 0x24704c8fcf8>]"
      ]
     },
     "execution_count": 95,
     "metadata": {},
     "output_type": "execute_result"
    },
    {
     "data": {
      "image/png": "[encoded data removed]",
      "text/plain": [
       "<Figure size 640x480 with 1 Axes>"
      ]
     },
     "metadata": {},
     "output_type": "display_data"
    }
   ],
   "source": [
    "DIP_price=[EU_Put_Down_In_Finite_Diff_implicit(i,70,K,r,sigma,T) for i in range(70,120,1)]\n",
    "plt.plot(DIP_price)"
   ]
  },
  {
   "cell_type": "code",
   "execution_count": null,
   "metadata": {},
   "outputs": [],
   "source": []
  }
 ],
 "metadata": {
  "colab": {
   "collapsed_sections": [],
   "name": "MATH97110: FiniteDifferenceEuroOptions.ipynb",
   "provenance": []
  },
  "kernelspec": {
   "display_name": "Python 3",
   "language": "python",
   "name": "python3"
  },
  "language_info": {
   "codemirror_mode": {
    "name": "ipython",
    "version": 3
   },
   "file_extension": ".py",
   "mimetype": "text/x-python",
   "name": "python",
   "nbconvert_exporter": "python",
   "pygments_lexer": "ipython3",
   "version": "3.7.3"
  }
 },
 "nbformat": 4,
 "nbformat_minor": 1
}
