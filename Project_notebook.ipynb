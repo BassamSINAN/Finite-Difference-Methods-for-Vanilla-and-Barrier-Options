{
 "cells": [
  {
   "cell_type": "code",
   "execution_count": null,
   "metadata": {
    "scrolled": true
   },
   "outputs": [],
   "source": [
    "\"\"\"\n",
    "Original Code for the different schemes provided by C.Salvi in the elective \"Numerical Methods for finance\" \n",
    "for the MSc Mathematics and Finance and adapted for this project\n",
    "\"\"\""
   ]
  },
  {
   "cell_type": "markdown",
   "metadata": {
    "id": "ZQ9-l3B813Cf"
   },
   "source": [
    "# **Finite difference method for solving Black-Scholes PDE**\n",
    "\n",
    "To price a European option with payoff function $(S_T-K)^{+}$ under Black-Scholes model, we need to solve the PDE\n",
    "\n",
    "\\begin{align}\n",
    "\\frac{\\partial V}{\\partial t}&=\\frac{\\sigma^2 s^2}{2}\\frac{\\partial^2 V}{\\partial s^2} + rs\\frac{\\partial V}{\\partial s} -rV,& t>0 \\\\\n",
    "V(0,s)&=(s-K)^{+},& t=0\n",
    "\\end{align}\n",
    "\n",
    "(Assuming that the time direction has already been reversed such that we work with a PDE with initial condition. The notation in the latex after this reversal is $\\tau$, but I just use t here to avoid too much typing in the codes!)\n",
    "\n",
    "We begin by fixing the market parameters.\n"
   ]
  },
  {
   "cell_type": "code",
   "execution_count": 23,
   "metadata": {
    "id": "8cjFU9RxHe-F"
   },
   "outputs": [],
   "source": [
    "import numpy as np\n",
    "import pandas as pd\n",
    "import scipy.stats as si\n",
    "from scipy.sparse import diags\n",
    "from scipy.linalg import solve_triangular\n",
    "import matplotlib.pyplot as plt\n",
    "plt.style.use(\"classic\")"
   ]
  },
  {
   "cell_type": "markdown",
   "metadata": {},
   "source": [
    "# First part: Pricing a European Option under the local volatility model"
   ]
  },
  {
   "cell_type": "markdown",
   "metadata": {
    "id": "J4BuQClRFNTe"
   },
   "source": [
    "# *Setup of the grid and boundary condition*\n",
    "\n",
    "*Boundary condition*\n",
    "\n",
    "In this example we will work with the domain of $(t,s)$ directly which is truncated to $D:=[0,T]\\times [s_{min},s_{max}]$. Since a call option is involved, we impose the boundary conditions\n",
    "\\begin{align}\n",
    "V(t,s_{min})=\\ell(t,s_{min})=0,\\qquad V(t,s_{max})=u(t,s_{max})=s_{max}-Ke^{-rt} \\qquad \\text{for all } t<T\n",
    "\\end{align}\n",
    "<br>\n",
    "<br>\n",
    "*Grid specification*\n",
    "\n",
    "We construct a uniform grid over $D$ with $N+1$ points along the time dimension and $M+1$ points along the space dimension. Let\n",
    "\\begin{align*}\n",
    "\\triangle t:=\\frac{T}{N},\\qquad \\triangle x:=\\frac{s_{max}-s_{min}}{M}.\n",
    "\\end{align*}\n",
    "Then the values of the grid points are given by\n",
    "\\begin{align*}\n",
    "t_n&:=n\\triangle t,& n=0,1,...,N \\\\\n",
    "s_k&:=s_{min}+k\\triangle x,& k=0,1,...,M\n",
    "\\end{align*}"
   ]
  },
  {
   "cell_type": "code",
   "execution_count": 2,
   "metadata": {},
   "outputs": [],
   "source": [
    "# Market and option parameters\n",
    "K, r, T = 100, 0.01, 1"
   ]
  },
  {
   "cell_type": "code",
   "execution_count": 5,
   "metadata": {
    "id": "mIdYbcKN1wcg"
   },
   "outputs": [],
   "source": [
    "# Grid parameters\n",
    "s_min, s_max = 10, 510\n",
    "N, M = 1000, 100  # N = 1000, M = 100\n",
    "\n",
    "# Setup of grids\n",
    "dt = T/N\n",
    "dx = (s_max - s_min)/M\n",
    "s = np.linspace(s_min, s_max, M+1)\n",
    "t = np.linspace(0, T, N+1)\n",
    "t_2 = np.linspace(0, T, M+1) #Vector we'll use in our local volatility "
   ]
  },
  {
   "cell_type": "code",
   "execution_count": 120,
   "metadata": {
    "scrolled": true
   },
   "outputs": [
    {
     "data": {
      "text/plain": [
       "<matplotlib.legend.Legend at 0x1a4667c8278>"
      ]
     },
     "execution_count": 120,
     "metadata": {},
     "output_type": "execute_result"
    },
    {
     "data": {
      "image/png": "[encoded data removed]",
      "text/plain": [
       "<Figure size 640x480 with 1 Axes>"
      ]
     },
     "metadata": {},
     "output_type": "display_data"
    }
   ],
   "source": [
    "#The local volatility function is given by:\n",
    "sigma = (1+t_2/30)*(0.1+0.4*np.exp(-s/50))\n",
    "\n",
    "fig, ax = plt.subplots()\n",
    "ax.plot(sigma, label=\"sigma with increasing s and t under local volatility\")\n",
    "ax.legend()"
   ]
  },
  {
   "cell_type": "markdown",
   "metadata": {
    "id": "v18VR2ySFIlh"
   },
   "source": [
    "# *Explicit scheme*\n",
    "\n",
    "Under explicit scheme the PDE can be discretised as\n",
    "\n",
    "\\begin{align*}\n",
    "\\frac{V^{n+1}_k-V^n_{k}}{\\triangle t}&=\\frac{\\sigma^2(t,s) s_k^2}{2}\\frac{V^{n}_{k+1}-2V^n_k+V^n_{k-1}}{\\triangle x^2}\n",
    "+rs_k \\frac{V^{n}_{k+1}-V^n_{k-1}}{2\\triangle x}-r V^n_k \\\\\n",
    "\\implies \\quad V^{n+1}_k&=\\left(\\frac{\\triangle t}{\\triangle x^2}\\frac{\\sigma^2(t,s) s_k^2}{2}-\\frac{\\triangle t}{2\\triangle x}rs_k\\right)V^{n}_{k-1}+\\left(1-\\frac{ \\triangle t}{\\triangle x^2}\\sigma^2(t,s) s_k^2-\\triangle t r\\right)V^n_k\\\\\n",
    "&\\qquad +\\left(\\frac{\\triangle t}{\\triangle x^2}\\frac{\\sigma^2(t,s) s_k^2}{2}+\\frac{\\triangle t}{2\\triangle x}rs_k\\right)V^{n}_{k+1}\\\\\n",
    "&=A_k V^n_{k-1} +(1+B_k) V^n_{k}+C_k V^n_{k+1}\n",
    "\\end{align*}\n",
    "for $k=1, 2, ..., M-1$, where\n",
    "\\begin{align}\n",
    "A_k:=\\frac{\\triangle t}{\\triangle x^2}\\frac{\\sigma^2(t,s) s_k^2}{2}-\\frac{\\triangle t}{2\\triangle x}rs_k,\\qquad B_k:=-\\frac{ \\triangle t}{\\triangle x^2}\\sigma^2(t,s) s_k^2-\\triangle t r,\\qquad C_k:=\\frac{\\triangle t}{\\triangle x^2}\\frac{\\sigma^2(t,s) s_k^2}{2}+\\frac{\\triangle t}{2\\triangle x}rs_k\n",
    "\\end{align}"
   ]
  },
  {
   "cell_type": "code",
   "execution_count": 8,
   "metadata": {
    "id": "ys-L62qLISv6"
   },
   "outputs": [],
   "source": [
    "# Set up the vectors A, B and C\n",
    "A = 0.5 * sigma**2 * dt / dx**2 * s**2 - 0.5 * r * dt/ dx * s\n",
    "B = - sigma**2 * dt / dx**2 * s**2 - r * dt\n",
    "C = 0.5 * sigma**2 * dt / dx**2 * s**2 + 0.5 * r * dt/ dx * s"
   ]
  },
  {
   "cell_type": "markdown",
   "metadata": {
    "id": "icDtg6RAIqcj"
   },
   "source": [
    "Recall that the $M-1$ recursive equations can be summarised using matrix notation\n",
    "\\begin{align*}\n",
    "\\underbrace{\n",
    "\\begin{bmatrix}\n",
    "V^{n+1}_0 \\\\ \n",
    "V^{n+1}_1 \\\\ \n",
    "V^{n+1}_2 \\\\ \n",
    " \\vdots \\\\ \n",
    " \\vdots\\\\ \n",
    "V^{n+1}_{M-1}\\\\ \n",
    "V^{n+1}_M  \n",
    "\\end{bmatrix}}_{=:V^{n+1}}\n",
    "=\n",
    "\\underbrace{\n",
    "\\begin{bmatrix}\n",
    "1 & 0 & 0 &  \\cdots&  &  &  &0 &0\\\\ \n",
    "A^n_1 & 1+B^n_1 & C^n_1 & 0 & \\cdots &  &  &0 &0\\\\ \n",
    "0 & A^n_2 & 1+B^n_2 &C^n_2  & 0 &\\cdots  &  && \\\\ \n",
    " &  &  &  & \\ddots & &  &  & \\\\ \n",
    " \\vdots&  &  &  &  & A^n_{M-2} &  1+B^n_{M-2}& C^n_{M-2}& 0\\\\ \n",
    " &  &  &  &  &0 & A^n_{M-1} & 1+B^n_{M-1} & C^n_{M-1}\\\\ \n",
    " 0&0  &\\cdots  &  & & 0& 0 & 0 &1 \n",
    "\\end{bmatrix}}_{=:\\mathbb{I}+L^n}\n",
    "\\underbrace{\n",
    "\\begin{bmatrix}\n",
    "V^{n}_0 \\\\ \n",
    "V^{n}_1 \\\\ \n",
    "V^{n}_2 \\\\ \n",
    " \\vdots \\\\ \n",
    " \\vdots\\\\ \n",
    "V^{n}_{M-1}\\\\ \n",
    "V^{n}_M  \n",
    "\\end{bmatrix}}_{=:V^{n}}\n",
    "\\end{align*}\n",
    "Here $\\mathbb{I}$ is an $(M+1)\\times (M+1)$ identity matrix and $L^n$ is an $(M+1)\\times (M+1)$ matrix in form of\n",
    "\\begin{align}\n",
    "L^n:=\n",
    "\\begin{bmatrix}\n",
    "0 & 0 & 0 &  \\cdots&  &  &  &0 &0\\\\ \n",
    "A^n_1 & B^n_1 & C^n_1 & 0 & \\cdots &  &  &0 &0\\\\ \n",
    "0 & A^n_2 & B^n_2 &C^n_2  & 0 &\\cdots  &  && \\\\ \n",
    " &  &  &  & \\ddots & &  &  & \\\\ \n",
    " \\vdots&  &  &  &  & A^n_{M-2} &  B^n_{M-2}& C^n_{M-2}& 0\\\\ \n",
    " &  &  &  &  &0 & A^n_{M-1} & B^n_{M-1} & C^n_{M-1}\\\\ \n",
    " 0&0  &\\cdots  &  & & 0& 0 & 0 &0\n",
    "\\end{bmatrix}\n",
    "\\end{align}\n",
    "\n",
    "In our specific example, $A$, $B$ and $C$ (and in turn the matrix $L$) have no dependence on $n$ and hence can be pre-set before running the loop."
   ]
  },
  {
   "cell_type": "code",
   "execution_count": 9,
   "metadata": {
    "id": "ofmZC51mJTyb"
   },
   "outputs": [],
   "source": [
    "# Setup the matrix L and I\n",
    "a_diag = np.concatenate([A[1:-1],[0]])\n",
    "b_diag = np.concatenate([[0],B[1:-1],[0]])\n",
    "c_diag = np.concatenate([[0],C[1:-1]])\n",
    "L = diags([a_diag, b_diag, c_diag], [-1, 0, 1]).toarray()\n",
    "I = np.identity(M+1)"
   ]
  },
  {
   "cell_type": "markdown",
   "metadata": {
    "id": "a0cTPFDSJ8Fd"
   },
   "source": [
    "Recall that the system $V^{n+1}=(\\mathbb{I}+L^n) V^n$ doesn't give us the correct value of $V^{n+1}_0$ and $V^{n+1}_M$. We need to manually overwrite the first and last entry of the vector to incorporate the boundary conditions at $s=s_0=s_{min}$ and $s=s_M=s_{max}$. The complete recursive algorithm is: \n",
    "\\begin{align}\n",
    "V^{n+1}=B^{n+1}((\\mathbb{I}+L^n) V^{n})\n",
    "\\end{align}\n",
    "where $B^{n+1}(\\cdot)$ is an operator which overwrites the first and last entry of the input vector to $\\ell^{n+1}_0:=\\ell(t_{n+1},x_0)$ and $u^{n+1}_{M}:=u(t_{n+1},x_M)$."
   ]
  },
  {
   "cell_type": "code",
   "execution_count": 10,
   "metadata": {
    "id": "U5y4lv_nKcDb"
   },
   "outputs": [],
   "source": [
    "# Running the explicit scheme\n",
    "\n",
    "# Initial condition\n",
    "v_ex = np.maximum(s - K, 0) # call option payoff\n",
    "\n",
    "# Iteration of explicit scheme\n",
    "for n in range(1,N+1):\n",
    "    v_ex = np.matmul(I+L, v_ex)           # V^{n+1} = (I+L)V^n\n",
    "    v_ex[0] = 0                           # Boundary operation at s_min\n",
    "    v_ex[M] = s_max - K*np.exp(-r*t[n])   # Boundary operation at s_max\n",
    "    \n",
    "# Running the implicit scheme"
   ]
  },
  {
   "cell_type": "markdown",
   "metadata": {
    "id": "Y3I-lg0iS-3l"
   },
   "source": [
    "# *Fully implicit scheme*\n",
    "\n",
    "Under fully implicit scheme the PDE is now discretised as\n",
    "\n",
    "\\begin{align*}\n",
    "\\frac{V^{n}_k-V^{n-1}_{k}}{\\triangle t}&=\\frac{\\sigma^2(t,s) s_k^2}{2}\\frac{V^{n}_{k+1}-2V^n_k+V^n_{k-1}}{\\triangle x^2}\n",
    "+rs_k \\frac{V^{n}_{k+1}-V^n_{k-1}}{2\\triangle x}-r V^n_k \\\\\n",
    "\\implies \\quad V^{n-1}_k&=-\\left(\\frac{\\triangle t}{\\triangle x^2}\\frac{\\sigma^2(t,s) s_k^2}{2}-\\frac{\\triangle t}{2\\triangle x}rs_k\\right)V^{n}_{k-1}+\\left(1+\\frac{ \\triangle t}{\\triangle x^2}\\sigma^2(t,s) s_k^2+\\triangle t r\\right)V^n_k\\\\\n",
    "&\\qquad -\\left(\\frac{\\triangle t}{\\triangle x^2}\\frac{\\sigma^2(t,s) s_k^2}{2}+\\frac{\\triangle t}{2\\triangle x}rs_k\\right)V^{n}_{k+1}\\\\\n",
    "&=-A_k V^n_{k-1} +(1-B_k) V^n_{k}-C_k V^n_{k+1}\n",
    "\\end{align*}\n",
    "for $A$, $B$ and $C$ are defined previously. After taking boundary condition into account, a matrix representation is\n",
    "\\begin{align*}\n",
    "\\begin{bmatrix}\n",
    "1 & 0 & 0 &  \\cdots&  &  &  &0 &0\\\\ \n",
    "-A^n_1 & 1-B^n_1 & -C^n_1 & 0 & \\cdots &  &  &0 &0\\\\ \n",
    "0 & -A^n_2 & 1-B^n_2 &-C^n_2  & 0 &\\cdots  &  && \\\\ \n",
    " &  &  &  & \\ddots & &  &  & \\\\ \n",
    " \\vdots&  &  &  &  & -A^n_k &  1-B^n_k& -C^n_k& 0\\\\ \n",
    " &  &  &  &  & 0& -A^n_{M-1} & 1-B^n_{M-1} & -C^n_{M-1}\\\\ \n",
    " 0&0  &\\cdots  &  & & 0& 0 & 0 &1 \n",
    "\\end{bmatrix}\n",
    "\\begin{bmatrix}\n",
    "V^{n}_0 \\\\ \n",
    "V^{n}_1 \\\\ \n",
    "V^{n}_2 \\\\ \n",
    " \\vdots \\\\ \n",
    " \\vdots\\\\ \n",
    "V^{n}_{M-1}\\\\ \n",
    "V^{n}_M  \n",
    "\\end{bmatrix}\n",
    "=\n",
    "\\begin{bmatrix}\n",
    "\\ell^{n}_0 \\\\ \n",
    "V^{n-1}_1 \\\\ \n",
    "V^{n-1}_2 \\\\ \n",
    " \\vdots \\\\ \n",
    " \\vdots\\\\ \n",
    "V^{n-1}_{M-1}\\\\ \n",
    "u^{n}_M  \n",
    "\\end{bmatrix}\n",
    "\\end{align*}\n",
    "In matrix form, it can be represented as\n",
    "\\begin{align}\n",
    "(\\mathbb{I}-L^{n})V^{n}=B^{n}(V^{n-1}).\n",
    "\\end{align}\n",
    "\n",
    "To solve $V^{n}$, we implement the Thomas algorithm which solves system of equation $Ax=d$ with $A$ being a tridiagonal matrix of the form\n",
    "\\begin{align*}\n",
    "\\begin{bmatrix}\n",
    "b_0 & c_0 & 0 &  \\cdots&  &  &  &0 &0 \\\\ \n",
    "a_1 & b_1 & c_1 & 0 & \\cdots &  &  &0 &0 \\\\ \n",
    "0 & a_2 & b_2 &c_2  & 0 &\\cdots  &  & &  \\\\ \n",
    " &  &  &  & \\ddots & &  &  &   \\vdots\\\\ \n",
    " \\vdots&  &  &  &  & a_{M-2} & b_{M-2}& c_{M-2}& 0 \\\\ \n",
    " &  &  &  &  & 0& a_{M-1} & b_{M-1} & c_{M-1} \\\\ \n",
    " 0&0  &\\cdots  &  & & 0& 0 & a_M &b_M \n",
    "\\end{bmatrix}\n",
    "\\end{align*}"
   ]
  },
  {
   "cell_type": "code",
   "execution_count": 11,
   "metadata": {
    "id": "r50pMg3aUxRW"
   },
   "outputs": [],
   "source": [
    "# Tridiagional matrix solver. a, b, c are the low, mid and high diagional of the matrix\n",
    "# d is the constant vector on the RHS\n",
    "#(copied shamelessly from https://gist.github.com/cbellei/8ab3ab8551b8dfc8b081c518ccd9ada9)\n",
    "def TDMAsolver(a, b, c, d):\n",
    "\n",
    "    nf = len(d) # number of equations\n",
    "    ac, bc, cc, dc = map(np.array, (a, b, c, d)) # copy arrays\n",
    "    for it in range(1, nf):\n",
    "        mc = ac[it-1]/bc[it-1]\n",
    "        bc[it] = bc[it] - mc*cc[it-1] \n",
    "        dc[it] = dc[it] - mc*dc[it-1]\n",
    "        \t    \n",
    "    xc = bc\n",
    "    xc[-1] = dc[-1]/bc[-1]\n",
    "\n",
    "    for il in range(nf-2, -1, -1):\n",
    "        xc[il] = (dc[il]-cc[il]*xc[il+1])/bc[il]\n",
    "\n",
    "    return xc"
   ]
  },
  {
   "cell_type": "markdown",
   "metadata": {
    "id": "LZUcazZDWSLQ"
   },
   "source": [
    "Now we run the iteration to solve the resursion\n",
    "\\begin{align}\n",
    "(\\mathbb{I}-L^{n})V^{n}=B^{n}(V^{n-1}).\n",
    "\\end{align}"
   ]
  },
  {
   "cell_type": "code",
   "execution_count": 12,
   "metadata": {
    "id": "HT0KAhhFUsJw"
   },
   "outputs": [],
   "source": [
    "# Running the implicit scheme\n",
    "\n",
    "# Initial condition\n",
    "v_im = np.maximum(s - K, 0)\n",
    "\n",
    "# Iteration of implicit scheme\n",
    "for n in range(1,N+1):\n",
    "    \n",
    "    d = v_im   # The RHS of the system of equations is V^{n-1}\n",
    "    d[0] = 0   # Boundary operator at s_min\n",
    "    d[M] = s_max - K*np.exp(-r*t[n])  # Boundary operator at s_min\n",
    "    v_im = TDMAsolver(-a_diag, 1-b_diag, -c_diag, d)   # Run the Thomas algorithm to solve for V^n"
   ]
  },
  {
   "cell_type": "markdown",
   "metadata": {},
   "source": [
    "# *The Crank-Nicolson scheme*"
   ]
  },
  {
   "cell_type": "markdown",
   "metadata": {},
   "source": [
    "\\begin{align*}\n",
    "\\frac{V^{n}_k-V^{n-1}_{k}}{\\triangle t}&=\\theta\\left(\\frac{\\sigma^2(t,s) s_k^2}{2}\\frac{V^{n}_{k+1}-2V^n_k+V^n_{k-1}}{\\triangle x^2}\n",
    "+rs_k \\frac{V^{n}_{k+1}-V^n_{k-1}}{2\\triangle x}-r V^n_k\\right) + \\\\\n",
    "&(1-\\theta)\\left(\\frac{\\sigma^2(t-1,s) s_k^2}{2}\\frac{V^{n-1}_{k+1}-2V^{n-1}_k+V^{n-1}_{k-1}}{\\triangle x^2}\n",
    "+rs_k \\frac{V^{n-1}_{k+1}-V^{n-1}_{k-1}}{2\\triangle x}-r V^{n-1}_k\\right)\\\\\n",
    "\\end{align*}\n",
    "\n",
    "Based on the same idea as in the analysis of the explicit/implicit scheme, the recursive equations and the boundary conditions can be summarised by the following matrix notation:\n",
    "\n",
    "\\begin{align}\n",
    "(\\mathbb{I}-\\theta L^{n})V^{n}=B^{n}(\\mathbb{I}+(1-\\theta) L^{n-1})V^{n-1}).\n",
    "\\end{align}"
   ]
  },
  {
   "cell_type": "code",
   "execution_count": 13,
   "metadata": {},
   "outputs": [],
   "source": [
    "# Running the implicit scheme\n",
    "\n",
    "theta= 1/2 #Fixed by the Crank-Nicolson scheme\n",
    "# Initial condition\n",
    "v_cr_ni = np.maximum(s - K, 0)\n",
    "\n",
    "# Iteration of implicit scheme\n",
    "\n",
    "for n in range(0,N):\n",
    "    v_cr_ni = np.matmul(I+(1-theta)*L, v_cr_ni)           # V^{n+1} = (I+(1-theta)*L)V^n\n",
    "    v_cr_ni[0] = 0                           # Boundary operation at s_min\n",
    "    v_cr_ni[M] = s_max - K*np.exp(-r*t[n])   # Boundary operation at s_max\n",
    "        \n",
    "for n in range(1,N+1):\n",
    "    \n",
    "    d = v_cr_ni   # The RHS of the system of equations is V^{n-1}\n",
    "    d[0] = 0   # Boundary operator at s_min\n",
    "    d[M] = s_max - K*np.exp(-r*t[n])  # Boundary operator at s_min\n",
    "    v_cr_ni = TDMAsolver(-a_diag*theta, 1-b_diag*theta, -c_diag*theta, d)   # Run the Thomas algorithm to solve for V^n\n"
   ]
  },
  {
   "cell_type": "code",
   "execution_count": null,
   "metadata": {},
   "outputs": [],
   "source": [
    "\"\"\"\n",
    "For theta=0, we should recover the Explicit Scheme.\n",
    "For theta=1, we should recover the Fully Implicit Scheme.\n",
    "\n",
    "Run the below for both theta for sanity check:\n",
    "print(v_cr_ni)\n",
    "print(v_im)\n",
    "print(v_ex)\n",
    "\"\"\""
   ]
  },
  {
   "cell_type": "markdown",
   "metadata": {
    "id": "T2r7vEU_WeHl"
   },
   "source": [
    "# **Prices obtained with the three schemes**\n",
    "\n",
    "We compare the our finite difference approximations against that of the Black-Scholes solution."
   ]
  },
  {
   "cell_type": "code",
   "execution_count": 25,
   "metadata": {},
   "outputs": [
    {
     "data": {
      "text/plain": [
       "<matplotlib.legend.Legend at 0x1a463a1d7f0>"
      ]
     },
     "execution_count": 25,
     "metadata": {},
     "output_type": "execute_result"
    },
    {
     "data": {
      "image/png": "[encoded data removed]",
      "text/plain": [
       "<Figure size 640x480 with 1 Axes>"
      ]
     },
     "metadata": {},
     "output_type": "display_data"
    }
   ],
   "source": [
    "fig, ax = plt.subplots()\n",
    "ax.plot(s, v_ex, 'x', linewidth=0.5, color=\"b\",label=\"Explicit\")\n",
    "ax.plot(s, v_im, 'o', linewidth=0.5, color=\"r\", label=\"Fully implicit\")\n",
    "ax.plot(s, v_cr_ni, \"v\", linewidth=0.5, color=\"g\", label=\"Crank-Nicolson\")\n",
    "ax.set_xlim([80, 120])\n",
    "ax.set_ylim([0, 30])\n",
    "ax.legend()"
   ]
  },
  {
   "cell_type": "code",
   "execution_count": 16,
   "metadata": {},
   "outputs": [
    {
     "data": {
      "text/html": [
       "<div>\n",
       "<style scoped>\n",
       "    .dataframe tbody tr th:only-of-type {\n",
       "        vertical-align: middle;\n",
       "    }\n",
       "\n",
       "    .dataframe tbody tr th {\n",
       "        vertical-align: top;\n",
       "    }\n",
       "\n",
       "    .dataframe thead th {\n",
       "        text-align: right;\n",
       "    }\n",
       "</style>\n",
       "<table border=\"1\" class=\"dataframe\">\n",
       "  <thead>\n",
       "    <tr style=\"text-align: right;\">\n",
       "      <th></th>\n",
       "      <th>Stock Price</th>\n",
       "      <th>Explicit Scheme Prices</th>\n",
       "      <th>Implicit Scheme Prices</th>\n",
       "      <th>Crank-Nicolson Scheme Prices</th>\n",
       "    </tr>\n",
       "  </thead>\n",
       "  <tbody>\n",
       "    <tr>\n",
       "      <th>0</th>\n",
       "      <td>80.0</td>\n",
       "      <td>0.708623</td>\n",
       "      <td>0.709268</td>\n",
       "      <td>0.708946</td>\n",
       "    </tr>\n",
       "    <tr>\n",
       "      <th>1</th>\n",
       "      <td>85.0</td>\n",
       "      <td>1.399338</td>\n",
       "      <td>1.399475</td>\n",
       "      <td>1.399406</td>\n",
       "    </tr>\n",
       "    <tr>\n",
       "      <th>2</th>\n",
       "      <td>90.0</td>\n",
       "      <td>2.534719</td>\n",
       "      <td>2.534094</td>\n",
       "      <td>2.534406</td>\n",
       "    </tr>\n",
       "    <tr>\n",
       "      <th>3</th>\n",
       "      <td>95.0</td>\n",
       "      <td>4.237428</td>\n",
       "      <td>4.236102</td>\n",
       "      <td>4.236765</td>\n",
       "    </tr>\n",
       "    <tr>\n",
       "      <th>4</th>\n",
       "      <td>100.0</td>\n",
       "      <td>6.583896</td>\n",
       "      <td>6.582263</td>\n",
       "      <td>6.583079</td>\n",
       "    </tr>\n",
       "    <tr>\n",
       "      <th>5</th>\n",
       "      <td>105.0</td>\n",
       "      <td>9.581941</td>\n",
       "      <td>9.580521</td>\n",
       "      <td>9.581231</td>\n",
       "    </tr>\n",
       "    <tr>\n",
       "      <th>6</th>\n",
       "      <td>110.0</td>\n",
       "      <td>13.170821</td>\n",
       "      <td>13.169979</td>\n",
       "      <td>13.170400</td>\n",
       "    </tr>\n",
       "    <tr>\n",
       "      <th>7</th>\n",
       "      <td>115.0</td>\n",
       "      <td>17.242413</td>\n",
       "      <td>17.242219</td>\n",
       "      <td>17.242316</td>\n",
       "    </tr>\n",
       "    <tr>\n",
       "      <th>8</th>\n",
       "      <td>120.0</td>\n",
       "      <td>21.671686</td>\n",
       "      <td>21.671972</td>\n",
       "      <td>21.671829</td>\n",
       "    </tr>\n",
       "  </tbody>\n",
       "</table>\n",
       "</div>"
      ],
      "text/plain": [
       "   Stock Price  Explicit Scheme Prices  Implicit Scheme Prices  \\\n",
       "0         80.0                0.708623                0.709268   \n",
       "1         85.0                1.399338                1.399475   \n",
       "2         90.0                2.534719                2.534094   \n",
       "3         95.0                4.237428                4.236102   \n",
       "4        100.0                6.583896                6.582263   \n",
       "5        105.0                9.581941                9.580521   \n",
       "6        110.0               13.170821               13.169979   \n",
       "7        115.0               17.242413               17.242219   \n",
       "8        120.0               21.671686               21.671972   \n",
       "\n",
       "   Crank-Nicolson Scheme Prices  \n",
       "0                      0.708946  \n",
       "1                      1.399406  \n",
       "2                      2.534406  \n",
       "3                      4.236765  \n",
       "4                      6.583079  \n",
       "5                      9.581231  \n",
       "6                     13.170400  \n",
       "7                     17.242316  \n",
       "8                     21.671829  "
      ]
     },
     "execution_count": 16,
     "metadata": {},
     "output_type": "execute_result"
    }
   ],
   "source": [
    "s_range_80_120 = s[14:23]\n",
    "v_ex_range_80_120 = v_ex[14:23]\n",
    "v_im_range_80_120 = v_im[14:23]\n",
    "v_cr_ni_range_80_120 = v_cr_ni[14:23]\n",
    "\n",
    "Table_prices_schemes=pd.DataFrame({\"Stock Price\":s_range_80_120,\"Explicit Scheme Prices\":v_ex_range_80_120,\n",
    "                                   \"Implicit Scheme Prices\":v_im_range_80_120, \n",
    "                                   \"Crank-Nicolson Scheme Prices\":v_cr_ni_range_80_120})\n",
    "\n",
    "Table_prices_schemes"
   ]
  },
  {
   "cell_type": "code",
   "execution_count": 20,
   "metadata": {
    "colab": {
     "base_uri": "https://localhost:8080/",
     "height": 282
    },
    "id": "HVt-SnZRWiHn",
    "outputId": "3aced89d-f309-440f-bf08-e743e394bd47"
   },
   "outputs": [],
   "source": [
    "# Black-Scholes call option formula\n",
    "def euro_vanilla_call(S, K, T, r, sigma):\n",
    "        \n",
    "    d1 = (np.log(S / K) + (r + 0.5 * sigma ** 2) * T) / (sigma * np.sqrt(T))\n",
    "    d2 = (np.log(S / K) + (r - 0.5 * sigma ** 2) * T) / (sigma * np.sqrt(T))\n",
    "    call = (S * si.norm.cdf(d1, 0.0, 1.0) - K * np.exp(-r * T) * si.norm.cdf(d2, 0.0, 1.0))\n",
    "    \n",
    "    return call"
   ]
  },
  {
   "cell_type": "code",
   "execution_count": 47,
   "metadata": {
    "scrolled": true
   },
   "outputs": [
    {
     "data": {
      "text/plain": [
       "<matplotlib.legend.Legend at 0x1a463e4e780>"
      ]
     },
     "execution_count": 47,
     "metadata": {},
     "output_type": "execute_result"
    },
    {
     "data": {
      "image/png": "[encoded data removed]",
      "text/plain": [
       "<Figure size 640x480 with 1 Axes>"
      ]
     },
     "metadata": {},
     "output_type": "display_data"
    }
   ],
   "source": [
    "bscall = euro_vanilla_call(s, K, T, r, sigma)\n",
    "\n",
    "# Plot the results under explicit and fully implicit scheme\n",
    "fig, ax = plt.subplots()\n",
    "ax.plot(s, bscall, 'k-', label=\"Black-Scholes\")\n",
    "ax.plot(s, v_im, '.', linewidth=0.5, label=\"Fully implicit\")\n",
    "ax.plot(s, v_ex, 'x', linewidth=0.5, label=\"Explicit\")\n",
    "ax.plot(s, v_cr_ni, linewidth=0.5, label=\"Crank-Nicolson\")\n",
    "ax.legend()"
   ]
  },
  {
   "cell_type": "markdown",
   "metadata": {},
   "source": [
    "as we can see prices converge towards BS"
   ]
  },
  {
   "cell_type": "markdown",
   "metadata": {},
   "source": [
    "## Part 2: Implied Vol under the local volatility model"
   ]
  },
  {
   "cell_type": "markdown",
   "metadata": {},
   "source": [
    "Code copied shamelessly from: https://stackoverflow.com/questions/61289020/fast-implied-volatility-calculation-in-python"
   ]
  },
  {
   "cell_type": "code",
   "execution_count": 27,
   "metadata": {},
   "outputs": [],
   "source": [
    "import numpy as np\n",
    "from scipy.stats import norm\n",
    "N = norm.cdf\n",
    "\n",
    "def bs_call(S, K, T, r, vol):\n",
    "    d1 = (np.log(S/K) + (r + 0.5*vol**2)*T) / (vol*np.sqrt(T))\n",
    "    d2 = d1 - vol * np.sqrt(T)\n",
    "    return S * norm.cdf(d1) - np.exp(-r * T) * K * norm.cdf(d2)\n",
    "\n",
    "def bs_vega(S, K, T, r, sigma):\n",
    "    d1 = (np.log(S / K) + (r + 0.5 * sigma ** 2) * T) / (sigma * np.sqrt(T))\n",
    "    return S * norm.pdf(d1) * np.sqrt(T)\n",
    "\n",
    "def find_vol(target_value, S, K, T, r, *args):\n",
    "    MAX_ITERATIONS = 200\n",
    "    PRECISION = 1.0e-5\n",
    "    sigma = 0.5\n",
    "    for i in range(0, MAX_ITERATIONS):\n",
    "        price = bs_call(S, K, T, r, sigma)\n",
    "        vega = bs_vega(S, K, T, r, sigma)\n",
    "        diff = target_value - price  # our root\n",
    "        if (abs(diff) < PRECISION):\n",
    "            return sigma\n",
    "        sigma = sigma + diff/vega # f(x) / f'(x)\n",
    "    return round(sigma,3) # value wasn't found, return best guess so far\n",
    "\n"
   ]
  },
  {
   "cell_type": "markdown",
   "metadata": {},
   "source": [
    "To make the code less heavy we write functions to compute the price under the explicit and implicit scheme as per below:"
   ]
  },
  {
   "cell_type": "code",
   "execution_count": 35,
   "metadata": {},
   "outputs": [],
   "source": [
    "def grid_setup(s_min,s_max,T,N,M,sigma,local_vol):\n",
    "    # Setup of grids\n",
    "    dt = T/N\n",
    "    dx = (s_max - s_min)/M\n",
    "    s = np.linspace(s_min, s_max, M+1)\n",
    "    t = np.linspace(0, T, N+1)\n",
    "    t_2 = np.linspace(0, T, M+1)\n",
    "    #local_vol\n",
    "    if local_vol == True:\n",
    "        sigma = (1+t_2/30)*(0.1+0.4*np.exp(-s/50))\n",
    "    else:\n",
    "        sigma = sigma\n",
    "        \n",
    "    # Set up the vectors A, B and C\n",
    "    A = 0.5 * sigma**2 * dt / dx**2 * s**2 - 0.5 * r * dt/ dx * s\n",
    "    B = - sigma**2 * dt / dx**2 * s**2 - r * dt\n",
    "    C = 0.5 * sigma**2 * dt / dx**2 * s**2 + 0.5 * r * dt/ dx * s\n",
    "    # Setup the matrix L and I\n",
    "    a_diag = np.concatenate([A[1:-1],[0]])\n",
    "    b_diag = np.concatenate([[0],B[1:-1],[0]])\n",
    "    c_diag = np.concatenate([[0],C[1:-1]])\n",
    "    L = diags([a_diag, b_diag, c_diag], [-1, 0, 1]).toarray()\n",
    "    I = np.identity(M+1)\n",
    "    return I,L,s, a_diag, b_diag, c_diag, t "
   ]
  },
  {
   "cell_type": "code",
   "execution_count": 36,
   "metadata": {},
   "outputs": [],
   "source": [
    "def VanillaEU_Call_Finite_Diff(S0,K,r,sigma,T,local_vol=True,explicit=True):\n",
    "    # Grid parameters\n",
    "    s_min, s_max = 10, 150\n",
    "    N, M = (s_max-s_min)*10, s_max-s_min\n",
    "    # Setup of grids\n",
    "    I,L, s, a_diag, b_diag, c_diag, t = grid_setup(s_min,s_max,T,N,M,sigma,local_vol)\n",
    "    # Running the explicit scheme\n",
    "\n",
    "    # Initial condition\n",
    "    v_ex = np.maximum(s - K, 0) # call option payoff\n",
    "\n",
    "    # Iteration of explicit scheme\n",
    "    for n in range(1,N+1):\n",
    "        v_ex = np.matmul(I+L, v_ex)           # V^{n+1} = (I+L)V^n\n",
    "        v_ex[0] = 0                           # Boundary operation at s_min\n",
    "        v_ex[M] = s_max - K*np.exp(-r*t[n])   # Boundary operation at s_max\n",
    "\n",
    "    # Running the implicit scheme\n",
    "\n",
    "    # Initial condition\n",
    "    v_im = np.maximum(s - K, 0)\n",
    "\n",
    "    # Iteration of implicit scheme\n",
    "    for n in range(1,N+1):\n",
    "\n",
    "        d = v_im   # The RHS of the system of equations is V^{n-1}\n",
    "        d[0] = 0   # Boundary operator at s_min\n",
    "        d[M] = s_max - K*np.exp(-r*t[n])  # Boundary operator at s_min\n",
    "        v_im = TDMAsolver(-a_diag, 1-b_diag, -c_diag, d)   # Run the Thomas algorithm to solve for V^n\n",
    "        \n",
    "    return v_ex[S0-s_min] if explicit==True else v_im[S0-s_min]"
   ]
  },
  {
   "cell_type": "code",
   "execution_count": 55,
   "metadata": {},
   "outputs": [
    {
     "name": "stdout",
     "output_type": "stream",
     "text": [
      "6.7553662232161376\n"
     ]
    },
    {
     "data": {
      "text/plain": [
       "6.735945036335941"
      ]
     },
     "execution_count": 55,
     "metadata": {},
     "output_type": "execute_result"
    }
   ],
   "source": [
    "#Example \n",
    "print(VanillaEU_Call_Finite_Diff(100,K,r,sigma,T,explicit=False))\n",
    "euro_vanilla_call(100, K, T, r, 0.157) #where we chose a vol=15.7% not too far from the local vol values "
   ]
  },
  {
   "cell_type": "markdown",
   "metadata": {},
   "source": [
    "### Under constant volatility"
   ]
  },
  {
   "cell_type": "code",
   "execution_count": null,
   "metadata": {},
   "outputs": [],
   "source": [
    "bscall = euro_vanilla_call(s, K, T, r, sigma)\n",
    "\n",
    "# Plot the results under explicit and fully implicit scheme\n",
    "fig, ax = plt.subplots()\n",
    "ax.plot(s, bscall, 'k-', label=\"Black-Scholes\")\n",
    "ax.plot(s, v_im, '.', linewidth=0.5, label=\"Fully implicit\")\n",
    "ax.plot(s, v_ex, 'x', linewidth=0.5, label=\"Explicit\")\n",
    "ax.plot(s, v_cr_ni, linewidth=0.5, label=\"Crank-Nicolson\")\n",
    "ax.legend()"
   ]
  },
  {
   "cell_type": "code",
   "execution_count": 96,
   "metadata": {},
   "outputs": [
    {
     "data": {
      "text/plain": [
       "<matplotlib.legend.Legend at 0x1a465552a58>"
      ]
     },
     "execution_count": 96,
     "metadata": {},
     "output_type": "execute_result"
    },
    {
     "data": {
      "image/png": "[encoded data removed]",
      "text/plain": [
       "<Figure size 640x480 with 1 Axes>"
      ]
     },
     "metadata": {},
     "output_type": "display_data"
    }
   ],
   "source": [
    "S0,r,sigma,T=100,0.1,0.157,1\n",
    "K_range=[i for i in range(70,135,5)]\n",
    "impl_vol_range_constant_vol=[find_vol(VanillaEU_Call_Finite_Diff(S0,i,r,sigma,T,local_vol=False,explicit=True), S0, i, T, r)\n",
    "                             for i in range(70,135,5)]\n",
    "impl_vol_range_constant_vol_rounded = [ '%.3f' % elem for elem in impl_vol_range_constant_vol ]\n",
    "fig, ax = plt.subplots()\n",
    "ax.plot(K_range, impl_vol_range_constant_vol_rounded, label=\"implied vol under the constant vol model\")\n",
    "plt.ylabel('impled volatility') \n",
    "plt.xlabel('Strike')\n",
    "ax.legend()"
   ]
  },
  {
   "cell_type": "markdown",
   "metadata": {},
   "source": [
    "### Under Local volatility"
   ]
  },
  {
   "cell_type": "code",
   "execution_count": 97,
   "metadata": {},
   "outputs": [
    {
     "data": {
      "text/plain": [
       "<matplotlib.legend.Legend at 0x1a4665bb550>"
      ]
     },
     "execution_count": 97,
     "metadata": {},
     "output_type": "execute_result"
    },
    {
     "data": {
      "image/png": "[encoded data removed]",
      "text/plain": [
       "<Figure size 640x480 with 1 Axes>"
      ]
     },
     "metadata": {},
     "output_type": "display_data"
    }
   ],
   "source": [
    "S0,r,sigma,T=100,0.1,0.157,1 #NB: the function will ignore sigma=0.157 when local_vol=true\n",
    "impl_vol_range_local_vol=[find_vol(VanillaEU_Call_Finite_Diff(S0,i,r,sigma,T,local_vol=True,explicit=False), S0, i, T, r) \n",
    "                         for i in range(70,135,5)]\n",
    "fig, ax = plt.subplots()\n",
    "ax.plot(K_range, impl_vol_range_local_vol, label=\"implied vol under the local vol model\")\n",
    "plt.ylabel('impled volatility') \n",
    "plt.xlabel('Strike')\n",
    "ax.legend()"
   ]
  },
  {
   "cell_type": "code",
   "execution_count": 126,
   "metadata": {},
   "outputs": [
    {
     "data": {
      "text/html": [
       "<div>\n",
       "<style scoped>\n",
       "    .dataframe tbody tr th:only-of-type {\n",
       "        vertical-align: middle;\n",
       "    }\n",
       "\n",
       "    .dataframe tbody tr th {\n",
       "        vertical-align: top;\n",
       "    }\n",
       "\n",
       "    .dataframe thead th {\n",
       "        text-align: right;\n",
       "    }\n",
       "</style>\n",
       "<table border=\"1\" class=\"dataframe\">\n",
       "  <thead>\n",
       "    <tr style=\"text-align: right;\">\n",
       "      <th></th>\n",
       "      <th>K</th>\n",
       "      <th>Prices</th>\n",
       "    </tr>\n",
       "  </thead>\n",
       "  <tbody>\n",
       "    <tr>\n",
       "      <th>0</th>\n",
       "      <td>70</td>\n",
       "      <td>36.684026</td>\n",
       "    </tr>\n",
       "    <tr>\n",
       "      <th>1</th>\n",
       "      <td>75</td>\n",
       "      <td>32.200437</td>\n",
       "    </tr>\n",
       "    <tr>\n",
       "      <th>2</th>\n",
       "      <td>80</td>\n",
       "      <td>27.771092</td>\n",
       "    </tr>\n",
       "    <tr>\n",
       "      <th>3</th>\n",
       "      <td>85</td>\n",
       "      <td>23.445192</td>\n",
       "    </tr>\n",
       "    <tr>\n",
       "      <th>4</th>\n",
       "      <td>90</td>\n",
       "      <td>19.295158</td>\n",
       "    </tr>\n",
       "    <tr>\n",
       "      <th>5</th>\n",
       "      <td>95</td>\n",
       "      <td>15.413203</td>\n",
       "    </tr>\n",
       "    <tr>\n",
       "      <th>6</th>\n",
       "      <td>100</td>\n",
       "      <td>11.899479</td>\n",
       "    </tr>\n",
       "    <tr>\n",
       "      <th>7</th>\n",
       "      <td>105</td>\n",
       "      <td>8.843601</td>\n",
       "    </tr>\n",
       "    <tr>\n",
       "      <th>8</th>\n",
       "      <td>110</td>\n",
       "      <td>6.305200</td>\n",
       "    </tr>\n",
       "    <tr>\n",
       "      <th>9</th>\n",
       "      <td>115</td>\n",
       "      <td>4.300575</td>\n",
       "    </tr>\n",
       "    <tr>\n",
       "      <th>10</th>\n",
       "      <td>120</td>\n",
       "      <td>2.800378</td>\n",
       "    </tr>\n",
       "    <tr>\n",
       "      <th>11</th>\n",
       "      <td>125</td>\n",
       "      <td>1.738541</td>\n",
       "    </tr>\n",
       "    <tr>\n",
       "      <th>12</th>\n",
       "      <td>130</td>\n",
       "      <td>1.028258</td>\n",
       "    </tr>\n",
       "  </tbody>\n",
       "</table>\n",
       "</div>"
      ],
      "text/plain": [
       "      K     Prices\n",
       "0    70  36.684026\n",
       "1    75  32.200437\n",
       "2    80  27.771092\n",
       "3    85  23.445192\n",
       "4    90  19.295158\n",
       "5    95  15.413203\n",
       "6   100  11.899479\n",
       "7   105   8.843601\n",
       "8   110   6.305200\n",
       "9   115   4.300575\n",
       "10  120   2.800378\n",
       "11  125   1.738541\n",
       "12  130   1.028258"
      ]
     },
     "execution_count": 126,
     "metadata": {},
     "output_type": "execute_result"
    }
   ],
   "source": [
    "S0,r,sigma,T=100,0.1,0.157,1\n",
    "K_range=[i for i in range(70,135,5)]\n",
    "Prices_constant_vol=[VanillaEU_Call_Finite_Diff(S0,i,r,sigma,T,local_vol=False,explicit=True) for i in range(70,135,5)]\n",
    "Prices_local_vol=[VanillaEU_Call_Finite_Diff(S0,i,r,sigma,T,local_vol=True,explicit=True) for i in range(70,135,5)]\n",
    "\n",
    "Prices_local_vol_table=pd.DataFrame({\"K\":K_range,\"Prices\":Prices_local_vol})\n",
    "Prices_local_vol_table"
   ]
  },
  {
   "cell_type": "markdown",
   "metadata": {},
   "source": [
    "## Part 3: Pricing Down-and-in Put under the finite difference method: Implicit Scheme"
   ]
  },
  {
   "cell_type": "markdown",
   "metadata": {},
   "source": [
    "We will first go through the DOP Valuation through the Implicit Method. Once we obtain the price for a DOP, we can easily get the DIP using the in-out parity: Put = DIP + DOP.\n",
    "\n",
    "In the below we will go step by step: defining the grid and boundary coundition then go through both the explicit and implicit scheme. Once done, we will define functions to make the writing less heavy on the lector for UOC/UIC/DIP.\n",
    "\n",
    "It is straightforward to formulate the PDE satisfied by a knock-out barrier option. All we need to do is to introduce a\n",
    "suitable boundary condition where the option value is set to zero at the knock-out level.\n",
    "\n",
    "For any t, we expect V(t, Bko) = 0 because the current stock price has now crossed the barrier and the option van-\n",
    "ishes.\n",
    "\n",
    "Under the Black-Scholes model, V satisfies the PDE:\n",
    "\n",
    "\\begin{align} \n",
    "&\\frac{\\partial V}{\\partial t}=rs\\frac{\\partial V}{\\partial s} + \\frac{\\sigma^2(t,s) s^2}{2}\\frac{\\partial^2 V}{\\partial s^2} -r V = 0,  &t>0 \\\\ \\label{eq3)14}\n",
    "&V(T, B_{ko})=0, &t>0\\\\  \\label{eq15}\n",
    "&V(T, s)=(K - s)^{+}𝟙_{(s\\geqslant B_{ko})]}, &t=0\\\\  \\label{eq16}\n",
    "\\nonumber\n",
    "\\end{align}"
   ]
  },
  {
   "cell_type": "markdown",
   "metadata": {
    "id": "J4BuQClRFNTe"
   },
   "source": [
    "# *Setup of the grid and boundary condition*\n",
    "\n",
    "*Boundary condition*\n",
    "\n",
    "In this example we will work with the domain of $(t,s)$ directly which is truncated to $D:=[0,T]\\times [B_{ko},s_{max}]$. Since a Put option is involved, we impose the boundary conditions\n",
    "\\begin{align}\n",
    "V(t,B_{ko})=0,\\qquad V(t,s_{max})=0 \\qquad \\text{for all } t<T\n",
    "\\end{align}\n",
    "<br>\n",
    "<br>\n",
    "*Grid specification*\n",
    "\n",
    "We use exactly the same approach as before and solve for the price using the boundary conditions we have specified before"
   ]
  },
  {
   "cell_type": "code",
   "execution_count": 98,
   "metadata": {},
   "outputs": [],
   "source": [
    "def EU_Put_Down_Out_Finite_Diff(S0,Bko,K,r,sigma,T,local_vol=False,explicit=True):\n",
    "    # Grid parameters\n",
    "    s_min, s_max = Bko, 150\n",
    "    N, M = abs(s_max-s_min)*10, abs(s_max-s_min)  # N = 1000, M = 100\n",
    "\n",
    "    I,L, s, a_diag, b_diag, c_diag, t = grid_setup(s_min,s_max,T,N,M,sigma,local_vol)\n",
    "    # Initial condition\n",
    "    v_ex = (K-s)*np.int64(K >= s)*np.int64(s >= Bko) # DOP option payoff\n",
    "\n",
    "    # Iteration of explicit scheme\n",
    "    for n in range(1,N+1):\n",
    "        v_ex = np.matmul(I+L, v_ex)           # V^{n+1} = (I+L)V^n\n",
    "        v_ex[0] = 0                           # Boundary operation at s_min\n",
    "        v_ex[M] = 0                           # Boundary operation at s_max  \n",
    "\n",
    "    # Running the implicit scheme\n",
    "\n",
    "    # Initial condition\n",
    "    v_im = (K-s)*np.int64(K > s)*np.int64(s > Bko)\n",
    "\n",
    "    # Iteration of implicit scheme\n",
    "    for n in range(1,N+1):\n",
    "\n",
    "        d = v_im   # The RHS of the system of equations is V^{n-1}\n",
    "        d[0] = 0   # Boundary operator at s_min\n",
    "        d[M] = 0  # Boundary operator at s_min\n",
    "        v_im = TDMAsolver(-a_diag, 1-b_diag, -c_diag, d)   # Run the Thomas algorithm to solve for V^n\n",
    "    \n",
    "    return v_ex[S0-Bko] if explicit==True else v_im[S0-Bko]\n"
   ]
  },
  {
   "cell_type": "code",
   "execution_count": 99,
   "metadata": {},
   "outputs": [],
   "source": [
    "def VanillaEU_Put_Finite_Diff(S0,K,r,sigma,T,local_vol=False,explicit=True):\n",
    "    # Grid parameters\n",
    "    s_min, s_max = 10, 150\n",
    "    N, M = (s_max-s_min)*10, s_max-s_min\n",
    "    # Setup of grids\n",
    "    I,L, s, a_diag, b_diag, c_diag, t = grid_setup(s_min,s_max,T,N,M,sigma,local_vol)\n",
    "    # Running the explicit scheme\n",
    "\n",
    "    # Initial condition\n",
    "    v_ex = np.maximum(K - s, 0) # call option payoff\n",
    "\n",
    "    # Iteration of explicit scheme\n",
    "    for n in range(1,N+1):\n",
    "        v_ex = np.matmul(I+L, v_ex)           # V^{n+1} = (I+L)V^n\n",
    "        v_ex[0] = K*np.exp(-r*t[n])           # Boundary operation at s_min\n",
    "        v_ex[M] = 0                           # Boundary operation at s_max\n",
    "\n",
    "    # Running the implicit scheme\n",
    "\n",
    "    # Initial condition\n",
    "    v_im = np.maximum(K - s, 0)\n",
    "\n",
    "    # Iteration of implicit scheme\n",
    "    for n in range(1,N+1):\n",
    "\n",
    "        d = v_im   # The RHS of the system of equations is V^{n-1}\n",
    "        d[0] = K*np.exp(-r*t[n])   # Boundary operator at s_min\n",
    "        d[M] = 0                   # Boundary operator at s_min\n",
    "        v_im = TDMAsolver(-a_diag, 1-b_diag, -c_diag, d)   # Run the Thomas algorithm to solve for V^n\n",
    "        \n",
    "    return v_ex[S0-10] if explicit==True else v_im[S0-10]"
   ]
  },
  {
   "cell_type": "code",
   "execution_count": 101,
   "metadata": {},
   "outputs": [],
   "source": [
    "def EU_Put_Down_In_Finite_Diff_implicit(S0,Bko,K,r,sigma,T,local_vol=False):\n",
    "    if local_vol==True:\n",
    "        return VanillaEU_Put_Finite_Diff(S0,K,r,sigma,T,local_vol=True, \n",
    "            explicit=False) - EU_Put_Down_Out_Finite_Diff(S0,Bko,K,r,sigma,T,local_vol=True,explicit=False)\n",
    "    else:\n",
    "        return VanillaEU_Put_Finite_Diff(S0,K,r,sigma,T,local_vol=False, \n",
    "            explicit=False) - EU_Put_Down_Out_Finite_Diff(S0,Bko,K,r,sigma,T,local_vol=False,explicit=False)"
   ]
  },
  {
   "cell_type": "code",
   "execution_count": 116,
   "metadata": {},
   "outputs": [
    {
     "data": {
      "text/plain": [
       "[0.04989699249811963, 0.7130397820488081, 3.106386822981131, 5.429516289455524]"
      ]
     },
     "execution_count": 116,
     "metadata": {},
     "output_type": "execute_result"
    }
   ],
   "source": [
    "#Implicit prices\n",
    "S0,K,r,sigma,T=100,100,0.01,0.157,1\n",
    "\n",
    "DIP_prices_constant_volatility = [EU_Put_Down_In_Finite_Diff_implicit(S0,i,K,r,sigma,T) \n",
    "                                           for i in range(60,100,10)]\n",
    "DIP_prices_constant_volatility"
   ]
  },
  {
   "cell_type": "code",
   "execution_count": 107,
   "metadata": {},
   "outputs": [
    {
     "data": {
      "text/plain": [
       "[0.2567757594107487, 1.232085259294018, 3.495762531309088, 5.47913701756384]"
      ]
     },
     "execution_count": 107,
     "metadata": {},
     "output_type": "execute_result"
    }
   ],
   "source": [
    "DIP_prices_local_volatility = [EU_Put_Down_In_Finite_Diff_implicit(S0,i,K,r,sigma,T,local_vol=True) \n",
    "                                           for i in range(60,100,10)]\n",
    "DIP_prices_local_volatility"
   ]
  },
  {
   "cell_type": "code",
   "execution_count": 115,
   "metadata": {},
   "outputs": [
    {
     "data": {
      "text/html": [
       "<div>\n",
       "<style scoped>\n",
       "    .dataframe tbody tr th:only-of-type {\n",
       "        vertical-align: middle;\n",
       "    }\n",
       "\n",
       "    .dataframe tbody tr th {\n",
       "        vertical-align: top;\n",
       "    }\n",
       "\n",
       "    .dataframe thead th {\n",
       "        text-align: right;\n",
       "    }\n",
       "</style>\n",
       "<table border=\"1\" class=\"dataframe\">\n",
       "  <thead>\n",
       "    <tr style=\"text-align: right;\">\n",
       "      <th></th>\n",
       "      <th>Bin_range</th>\n",
       "      <th>DIP_prices_constant_volatility</th>\n",
       "      <th>DIP_prices_local_volatility</th>\n",
       "      <th>% Difference</th>\n",
       "    </tr>\n",
       "  </thead>\n",
       "  <tbody>\n",
       "    <tr>\n",
       "      <th>0</th>\n",
       "      <td>60</td>\n",
       "      <td>0.049897</td>\n",
       "      <td>0.256776</td>\n",
       "      <td>4.146117</td>\n",
       "    </tr>\n",
       "    <tr>\n",
       "      <th>1</th>\n",
       "      <td>70</td>\n",
       "      <td>0.713040</td>\n",
       "      <td>1.232085</td>\n",
       "      <td>0.727933</td>\n",
       "    </tr>\n",
       "    <tr>\n",
       "      <th>2</th>\n",
       "      <td>80</td>\n",
       "      <td>3.106387</td>\n",
       "      <td>3.495763</td>\n",
       "      <td>0.125347</td>\n",
       "    </tr>\n",
       "    <tr>\n",
       "      <th>3</th>\n",
       "      <td>90</td>\n",
       "      <td>5.429516</td>\n",
       "      <td>5.479137</td>\n",
       "      <td>0.009139</td>\n",
       "    </tr>\n",
       "  </tbody>\n",
       "</table>\n",
       "</div>"
      ],
      "text/plain": [
       "   Bin_range  DIP_prices_constant_volatility  DIP_prices_local_volatility  \\\n",
       "0         60                        0.049897                     0.256776   \n",
       "1         70                        0.713040                     1.232085   \n",
       "2         80                        3.106387                     3.495763   \n",
       "3         90                        5.429516                     5.479137   \n",
       "\n",
       "   % Difference  \n",
       "0      4.146117  \n",
       "1      0.727933  \n",
       "2      0.125347  \n",
       "3      0.009139  "
      ]
     },
     "execution_count": 115,
     "metadata": {},
     "output_type": "execute_result"
    }
   ],
   "source": [
    "Bin_range = [i for i in range(60,100,10)]\n",
    "DIP_prices_table = pd.DataFrame({\"Bin_range\":Bin_range,\"DIP_prices_constant_volatility\":DIP_prices_constant_volatility,\n",
    "                                \"DIP_prices_local_volatility\":DIP_prices_local_volatility})\n",
    "DIP_prices_table[\"% Difference\"] = \\\n",
    "    DIP_prices_table[\"DIP_prices_local_volatility\"]/DIP_prices_table[\"DIP_prices_constant_volatility\"] - 1\n",
    "DIP_prices_table"
   ]
  },
  {
   "cell_type": "code",
   "execution_count": null,
   "metadata": {},
   "outputs": [],
   "source": []
  }
 ],
 "metadata": {
  "colab": {
   "collapsed_sections": [],
   "name": "MATH97110: FiniteDifferenceEuroOptions.ipynb",
   "provenance": []
  },
  "kernelspec": {
   "display_name": "Python 3",
   "language": "python",
   "name": "python3"
  },
  "language_info": {
   "codemirror_mode": {
    "name": "ipython",
    "version": 3
   },
   "file_extension": ".py",
   "mimetype": "text/x-python",
   "name": "python",
   "nbconvert_exporter": "python",
   "pygments_lexer": "ipython3",
   "version": "3.7.3"
  }
 },
 "nbformat": 4,
 "nbformat_minor": 1
}
